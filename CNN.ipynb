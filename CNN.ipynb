{
 "cells": [
  {
   "cell_type": "code",
   "execution_count": 5,
   "metadata": {},
   "outputs": [
    {
     "name": "stderr",
     "output_type": "stream",
     "text": [
      "c:\\Users\\quang\\OneDrive - HUCE\\Computer\\study\\32\\Thị giác Máy Tính\\Code\\.venv\\Lib\\site-packages\\keras\\src\\layers\\convolutional\\base_conv.py:107: UserWarning: Do not pass an `input_shape`/`input_dim` argument to a layer. When using Sequential models, prefer using an `Input(shape)` object as the first layer in the model instead.\n",
      "  super().__init__(activity_regularizer=activity_regularizer, **kwargs)\n"
     ]
    },
    {
     "name": "stdout",
     "output_type": "stream",
     "text": [
      "Epoch 1/10\n",
      "\u001b[1m1563/1563\u001b[0m \u001b[32m━━━━━━━━━━━━━━━━━━━━\u001b[0m\u001b[37m\u001b[0m \u001b[1m10s\u001b[0m 6ms/step - accuracy: 0.3350 - loss: 1.7847 - val_accuracy: 0.5439 - val_loss: 1.2645\n",
      "Epoch 2/10\n",
      "\u001b[1m1563/1563\u001b[0m \u001b[32m━━━━━━━━━━━━━━━━━━━━\u001b[0m\u001b[37m\u001b[0m \u001b[1m8s\u001b[0m 5ms/step - accuracy: 0.5633 - loss: 1.2204 - val_accuracy: 0.6133 - val_loss: 1.0952\n",
      "Epoch 3/10\n",
      "\u001b[1m1563/1563\u001b[0m \u001b[32m━━━━━━━━━━━━━━━━━━━━\u001b[0m\u001b[37m\u001b[0m \u001b[1m9s\u001b[0m 5ms/step - accuracy: 0.6362 - loss: 1.0278 - val_accuracy: 0.6361 - val_loss: 1.0381\n",
      "Epoch 4/10\n",
      "\u001b[1m1563/1563\u001b[0m \u001b[32m━━━━━━━━━━━━━━━━━━━━\u001b[0m\u001b[37m\u001b[0m \u001b[1m10s\u001b[0m 6ms/step - accuracy: 0.6731 - loss: 0.9267 - val_accuracy: 0.6551 - val_loss: 0.9811\n",
      "Epoch 5/10\n",
      "\u001b[1m1563/1563\u001b[0m \u001b[32m━━━━━━━━━━━━━━━━━━━━\u001b[0m\u001b[37m\u001b[0m \u001b[1m9s\u001b[0m 5ms/step - accuracy: 0.7058 - loss: 0.8435 - val_accuracy: 0.6645 - val_loss: 0.9780\n",
      "Epoch 6/10\n",
      "\u001b[1m1563/1563\u001b[0m \u001b[32m━━━━━━━━━━━━━━━━━━━━\u001b[0m\u001b[37m\u001b[0m \u001b[1m9s\u001b[0m 5ms/step - accuracy: 0.7230 - loss: 0.7884 - val_accuracy: 0.6912 - val_loss: 0.8978\n",
      "Epoch 7/10\n",
      "\u001b[1m1563/1563\u001b[0m \u001b[32m━━━━━━━━━━━━━━━━━━━━\u001b[0m\u001b[37m\u001b[0m \u001b[1m8s\u001b[0m 5ms/step - accuracy: 0.7432 - loss: 0.7299 - val_accuracy: 0.7019 - val_loss: 0.8632\n",
      "Epoch 8/10\n",
      "\u001b[1m1563/1563\u001b[0m \u001b[32m━━━━━━━━━━━━━━━━━━━━\u001b[0m\u001b[37m\u001b[0m \u001b[1m9s\u001b[0m 6ms/step - accuracy: 0.7626 - loss: 0.6772 - val_accuracy: 0.7132 - val_loss: 0.8384\n",
      "Epoch 9/10\n",
      "\u001b[1m1563/1563\u001b[0m \u001b[32m━━━━━━━━━━━━━━━━━━━━\u001b[0m\u001b[37m\u001b[0m \u001b[1m9s\u001b[0m 5ms/step - accuracy: 0.7789 - loss: 0.6313 - val_accuracy: 0.7147 - val_loss: 0.8492\n",
      "Epoch 10/10\n",
      "\u001b[1m1563/1563\u001b[0m \u001b[32m━━━━━━━━━━━━━━━━━━━━\u001b[0m\u001b[37m\u001b[0m \u001b[1m9s\u001b[0m 6ms/step - accuracy: 0.7882 - loss: 0.5978 - val_accuracy: 0.7089 - val_loss: 0.8869\n",
      "\u001b[1m313/313\u001b[0m \u001b[32m━━━━━━━━━━━━━━━━━━━━\u001b[0m\u001b[37m\u001b[0m \u001b[1m1s\u001b[0m 3ms/step - accuracy: 0.7107 - loss: 0.8702\n",
      "Test accuracy: 0.708899974822998\n"
     ]
    }
   ],
   "source": [
    "import numpy as np  \n",
    "import pickle  \n",
    "import os  \n",
    "import tensorflow as tf  \n",
    "from tensorflow.keras import layers, models  \n",
    "\n",
    "# Hàm để tải dữ liệu CIFAR-10 từ thư mục  \n",
    "def load_cifar10_data(data_dir):  \n",
    "    num_batches = 5  \n",
    "    data = []  \n",
    "    labels = []  \n",
    "\n",
    "    for i in range(1, num_batches + 1):  \n",
    "        file_path = os.path.join(data_dir, f'data_batch_{i}')  \n",
    "        with open(file_path, 'rb') as file:  \n",
    "            batch = pickle.load(file, encoding='latin1')  \n",
    "            data.append(batch['data'])  \n",
    "            labels.extend(batch['labels'])  \n",
    "\n",
    "    # Chuyển đổi thành mảng numpy và thay đổi kích thước ảnh  \n",
    "    X = np.vstack(data)  # Kết hợp các batch thành một mảng 2D  \n",
    "    X = X.reshape(-1, 3, 32, 32).transpose(0, 2, 3, 1)  # Đổi chiều thành (batch_size, height, width, channels)  \n",
    "    y = np.array(labels)  \n",
    "\n",
    "    # Chuẩn hóa dữ liệu  \n",
    "    X = X.astype('float32') / 255.0  \n",
    "\n",
    "    return X, y  \n",
    "\n",
    "# Bước 1: Tải và chuẩn bị dữ liệu  \n",
    "train_images, train_labels = load_cifar10_data('data/cifar-10-batches-py')  \n",
    "# Tải dữ liệu kiểm tra  \n",
    "with open('data/cifar-10-batches-py/test_batch', 'rb') as file:  \n",
    "    test_batch = pickle.load(file, encoding='latin1')  \n",
    "    test_images = test_batch['data'].reshape(-1, 3, 32, 32).transpose(0, 2, 3, 1).astype('float32') / 255.0  \n",
    "    test_labels = np.array(test_batch['labels'])  \n",
    "\n",
    "# Bước 2: Xây dựng mô hình CNN  \n",
    "model = models.Sequential([  \n",
    "    layers.Conv2D(32, (3, 3), activation='relu', input_shape=(32, 32, 3)),  \n",
    "    layers.MaxPooling2D((2, 2)),  \n",
    "    layers.Conv2D(64, (3, 3), activation='relu'),  \n",
    "    layers.MaxPooling2D((2, 2)),  \n",
    "    layers.Conv2D(64, (3, 3), activation='relu'),  \n",
    "    layers.Flatten(),  \n",
    "    layers.Dense(64, activation='relu'),  \n",
    "    layers.Dense(10, activation='softmax')  # 10 lớp cho 10 loại hình ảnh  \n",
    "])  \n",
    "\n",
    "# Bước 4: Biên dịch mô hình  \n",
    "model.compile(optimizer='adam',  \n",
    "              loss='sparse_categorical_crossentropy',  \n",
    "              metrics=['accuracy'])  \n",
    "\n",
    "# Bước 5: Huấn luyện mô hình  \n",
    "model.fit(train_images, train_labels, epochs=10, validation_data=(test_images, test_labels))  \n",
    "\n",
    "# Bước 6: Đánh giá mô hình  \n",
    "test_loss, test_acc = model.evaluate(test_images, test_labels)  \n",
    "print(f'Test accuracy: {test_acc}')"
   ]
  },
  {
   "cell_type": "code",
   "execution_count": null,
   "metadata": {},
   "outputs": [],
   "source": []
  }
 ],
 "metadata": {
  "kernelspec": {
   "display_name": ".venv",
   "language": "python",
   "name": "python3"
  },
  "language_info": {
   "codemirror_mode": {
    "name": "ipython",
    "version": 3
   },
   "file_extension": ".py",
   "mimetype": "text/x-python",
   "name": "python",
   "nbconvert_exporter": "python",
   "pygments_lexer": "ipython3",
   "version": "3.12.6"
  }
 },
 "nbformat": 4,
 "nbformat_minor": 2
}
