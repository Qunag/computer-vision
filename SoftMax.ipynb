{
 "cells": [
  {
   "cell_type": "code",
   "execution_count": 73,
   "metadata": {},
   "outputs": [],
   "source": [
    "import numpy as np  \n",
    "from sklearn.preprocessing import OneHotEncoder  \n",
    "from torchvision import datasets  \n",
    "from sklearn.utils import shuffle  "
   ]
  },
  {
   "cell_type": "code",
   "execution_count": 74,
   "metadata": {},
   "outputs": [
    {
     "name": "stdout",
     "output_type": "stream",
     "text": [
      "Files already downloaded and verified\n"
     ]
    }
   ],
   "source": [
    "# Bước 1: Tải và chuẩn bị dữ liệu (giống như đã làm trước đó)  \n",
    "\n",
    "trainset = datasets.CIFAR10(root='./data', train=True, download=True)  \n",
    "class_to_fetch = 0  # Chọn lớp cụ thể  \n",
    "\n",
    "# Sử dụng list comprehension để tối ưu hóa việc lọc và xử lý dữ liệu\n",
    "X_train = np.array([np.array(img).reshape(-1) for img, label in trainset if label == class_to_fetch])\n",
    "y_train = np.array([label for img, label in trainset if label == class_to_fetch])\n",
    "\n",
    "# Chuẩn hóa dữ liệu\n",
    "X_train = (X_train / 255.0 - 0.5) * 2  \n",
    "\n",
    "# One-hot encoding cho nhãn\n",
    "encoder = OneHotEncoder(sparse_output=False)  \n",
    "y_train_onehot = encoder.fit_transform(y_train.reshape(-1, 1))  \n",
    "\n",
    "# Trộn dữ liệu\n",
    "X_train, y_train_onehot = shuffle(X_train, y_train_onehot, random_state=42)"
   ]
  },
  {
   "cell_type": "code",
   "execution_count": 75,
   "metadata": {},
   "outputs": [],
   "source": [
    "# Bước 2: Khởi tạo trọng số  \n",
    "num_features = X_train.shape[1]  \n",
    "num_classes = y_train_onehot.shape[1]  \n",
    "weights = np.random.randn(num_features, num_classes) * 0.01  "
   ]
  },
  {
   "cell_type": "code",
   "execution_count": 76,
   "metadata": {},
   "outputs": [],
   "source": [
    "def softmax(z):  \n",
    "    exp_z = np.exp(z - np.max(z))  \n",
    "    return exp_z / np.sum(exp_z)  "
   ]
  },
  {
   "cell_type": "code",
   "execution_count": 77,
   "metadata": {},
   "outputs": [],
   "source": [
    "def cross_entropy_loss(y_true, y_pred):  \n",
    "    return -np.sum(y_true * np.log(y_pred + 1e-15)) / y_true.shape[0]  "
   ]
  },
  {
   "cell_type": "code",
   "execution_count": 78,
   "metadata": {},
   "outputs": [],
   "source": [
    "def model_forward(X, weights):  \n",
    "    logits = np.dot(X, weights)  \n",
    "    return softmax(logits)  \n"
   ]
  },
  {
   "cell_type": "code",
   "execution_count": 80,
   "metadata": {},
   "outputs": [
    {
     "name": "stdout",
     "output_type": "stream",
     "text": [
      "Training completed at Epoch 1, Final Loss: 34.531862\n",
      "Trọng số cuối cùng: [[0.43140664]\n",
      " [0.83742177]\n",
      " [1.2728588 ]\n",
      " ...\n",
      " [0.05703914]\n",
      " [0.20508907]\n",
      " [0.25222452]]\n"
     ]
    }
   ],
   "source": [
    "learning_rate = 0.01  \n",
    "target_loss = 0.1  # Điều kiện dừng dựa trên loss\n",
    "max_epochs = 1000  # Giới hạn số lần lặp để tránh lặp vô hạn\n",
    "tolerance = 1e-6  # Độ chính xác để kiểm tra sự hội tụ\n",
    "\n",
    "epoch = 0\n",
    "previous_loss = float('inf')  # Khởi tạo giá trị loss trước đó\n",
    "\n",
    "while True:\n",
    "    \n",
    "          \n",
    "    y_pred = model_forward(X_train, weights)  \n",
    "    loss = cross_entropy_loss(y_train_onehot, y_pred)  \n",
    "    \n",
    "    \n",
    "    if loss < target_loss or epoch >= max_epochs or abs(previous_loss - loss) < tolerance:\n",
    "        break   \n",
    "    gradient = np.dot(X_train.T, (y_pred - y_train_onehot)) / X_train.shape[0]  \n",
    "    \n",
    "    weights -= learning_rate * gradient  \n",
    "    previous_loss = loss\n",
    "    epoch += 1  \n",
    "    \n",
    "    # # In thông tin\n",
    "    # print(f\"Epoch {epoch}, Loss: {loss:.6f}\")\n",
    "\n",
    "print(f\"Training completed at Epoch {epoch}, Final Loss: {loss:.6f}\")\n",
    "print(\"Trọng số cuối cùng:\", weights)\n"
   ]
  },
  {
   "cell_type": "code",
   "execution_count": null,
   "metadata": {},
   "outputs": [],
   "source": []
  }
 ],
 "metadata": {
  "kernelspec": {
   "display_name": ".venv",
   "language": "python",
   "name": "python3"
  },
  "language_info": {
   "codemirror_mode": {
    "name": "ipython",
    "version": 3
   },
   "file_extension": ".py",
   "mimetype": "text/x-python",
   "name": "python",
   "nbconvert_exporter": "python",
   "pygments_lexer": "ipython3",
   "version": "3.12.6"
  }
 },
 "nbformat": 4,
 "nbformat_minor": 2
}
